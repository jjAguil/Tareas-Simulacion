{
  "nbformat": 4,
  "nbformat_minor": 0,
  "metadata": {
    "colab": {
      "name": "Tarea funcion de colas",
      "provenance": [],
      "authorship_tag": "ABX9TyPpkG9FKrQtRL2STIFbVQHj",
      "include_colab_link": true
    },
    "kernelspec": {
      "name": "python3",
      "display_name": "Python 3"
    },
    "language_info": {
      "name": "python"
    }
  },
  "cells": [
    {
      "cell_type": "markdown",
      "metadata": {
        "id": "view-in-github",
        "colab_type": "text"
      },
      "source": [
        "<a href=\"https://colab.research.google.com/github/jjAguil/Tareas-Simulacion/blob/main/Tarea_funcion_de_colas.ipynb\" target=\"_parent\"><img src=\"https://colab.research.google.com/assets/colab-badge.svg\" alt=\"Open In Colab\"/></a>"
      ]
    },
    {
      "cell_type": "code",
      "execution_count": 4,
      "metadata": {
        "id": "dJ5aEQWEo0ef"
      },
      "outputs": [],
      "source": [
        "from statistics import mean\n",
        "from statistics import mean, pstdev\n",
        "from random import seed\n",
        "from random import expovariate\n",
        "from statistics import mean, pstdev\n",
        "from math import inf as Infinity\n",
        "from matplotlib.pyplot import *\n",
        "from time import time"
      ]
    },
    {
      "cell_type": "code",
      "source": [
        "# Parametros\n",
        "\n",
        "#lamda = 4.0                         # Razón de arrivos (1/Lambda)  Ojo\n",
        "#mu = 6.0                            # Razón de salida (1/Mu)       Ojo\n",
        "\n",
        "def wl(lamda,mu,Num_Pkts) :          #definimos nuestra funcion con 3 entradas\n",
        "  #Num_Pkts = 100000                   # Numero de paquetes a simular\n",
        "  #T = 100000\n",
        "  count = 0                           # Contador de paquetes simulados\n",
        "  t = 0\n",
        "  N = 0                               # Variable de estado: numero de paquetes en el sistema\n",
        "\n",
        "  tll = expovariate(lamda)            # Tiempo de llegada\n",
        "  ts = Infinity                       # Tiempo de salida\n",
        "\n",
        "  t_evento_anterior = 0.0             # tiempo del último evento ****************Nuevas líneas de código***********\n",
        "\n",
        "  h=0\n",
        "  # Variables de salida\n",
        "  tll_Data = []                       # Lista de tiempos de llegada\n",
        "  ts_Data = []                        # Lista de tiempos de salida\n",
        "  r_Data = []                         # Lista de retrasos individuales\n",
        "  Area = []                           # Area de escalón ***********************************************************\n",
        "\n",
        "\n",
        "  while count < Num_Pkts:\n",
        "  #while t < T:\n",
        "      if tll < ts:                           # Evento de llegada\n",
        "          t = tll\n",
        "          tll_Data.append(t)\n",
        "          \n",
        "          # Area del escalón ***********************************************************************************\n",
        "          Area.append((t - t_evento_anterior)*N)\n",
        "          t_evento_anterior = t\n",
        "          \n",
        "          \n",
        "          N = N + 1.0\n",
        "          tll = t + expovariate(lamda) \n",
        "          if N == 1:\n",
        "              ts = t + expovariate(mu)\n",
        "      else:                                         # Evento de salida\n",
        "          t = ts\n",
        "          ts_Data.append(t)\n",
        "          \n",
        "          # Area del escalón ***********************************************************************************\n",
        "          Area.append((t - t_evento_anterior)*N)\n",
        "          t_evento_anterior = t\n",
        "          \n",
        "          \n",
        "          N = N - 1.0\n",
        "          count = count + 1                         # Paquetes simulados\n",
        "          if N > 0:\n",
        "              ts = t + expovariate(mu)\n",
        "          else:\n",
        "              ts = Infinity\n",
        "              h=h+1\n",
        "              \n",
        "  # Estimación del retraso promedio:\n",
        "\n",
        "  for i in range(Num_Pkts):\n",
        "  #for i in range(T):\n",
        "      d = ts_Data[i] - tll_Data[i]\n",
        "      r_Data.append(d)\n",
        "  \n",
        "  return  mean(r_Data), sum(Area)/t,h     #regresamos W y L y h para saber cuando estuvo desocupado el servidor en nuestra funcion"
      ],
      "metadata": {
        "id": "OnCG84QZqgi9"
      },
      "execution_count": 46,
      "outputs": []
    },
    {
      "cell_type": "code",
      "source": [
        "wl(4,6,100000)     #probamos que sirve"
      ],
      "metadata": {
        "colab": {
          "base_uri": "https://localhost:8080/"
        },
        "id": "XUcuXZCysrK-",
        "outputId": "0d2da2b8-8264-4bee-fb9f-5de8dc425a4a"
      },
      "execution_count": 47,
      "outputs": [
        {
          "output_type": "execute_result",
          "data": {
            "text/plain": [
              "(0.49995081833685917, 1.9972790965682499, 33431)"
            ]
          },
          "metadata": {},
          "execution_count": 47
        }
      ]
    },
    {
      "cell_type": "code",
      "source": [
        "# Parametros\n",
        "\n",
        "#lamda = 4.0                         # Razón de arrivos (1/Lambda)  Ojo\n",
        "#mu = 6.0                            # Razón de salida (1/Mu)       Ojo\n",
        "\n",
        "def p(lamda,mu,Num_Pkts):\n",
        "  #Num_Pkts = 100000                   # Numero de paquetes a simular\n",
        "  #T = 100000\n",
        "  count = 0                           # Contador de paquetes simulados\n",
        "  t = 0\n",
        "  N = 0                               # Variable de estado: numero de paquetes en el sistema\n",
        "\n",
        "  tll = expovariate(lamda)            # Tiempo de llegada\n",
        "  ts = Infinity                       # Tiempo de salida\n",
        "  t_evento_anterior = 0.0             # tiempo del último evento ****************Nuevas líneas de código***********\n",
        "\n",
        "  # Variables de salida\n",
        "  tll_Data = []                       # Lista de tiempos de llegada\n",
        "  ts_Data = []                        # Lista de tiempos de salida\n",
        "  r_Data = []                         # Lista de retrasos individuales\n",
        "\n",
        "  Data = {}                           # Diccionario *****************************************************************\n",
        "\n",
        "  while count < Num_Pkts:\n",
        "  #while t < T:\n",
        "      if tll < ts:                           # Evento de llegada\n",
        "          t = tll\n",
        "          \n",
        "          # longitud del intervalo entre llegadas *********************************************************************\n",
        "          delta = t - t_evento_anterior\n",
        "          if N in Data: \n",
        "              Data[N] += delta\n",
        "          else:\n",
        "              Data[N] = delta\n",
        "          t_evento_anterior = t\n",
        "          \n",
        "          tll_Data.append(t)\n",
        "          N = N + 1.0\n",
        "          tll = t + expovariate(lamda) \n",
        "          if N == 1:\n",
        "              ts = t + expovariate(mu)\n",
        "      else:                                         # Evento de salida\n",
        "          t = ts\n",
        "          \n",
        "          # Longitud del intervalo de tiempo **************************************************************************\n",
        "          delta = t - t_evento_anterior\n",
        "          if N in Data:\n",
        "              Data[N] += delta\n",
        "          else:\n",
        "              Data[N] = delta\n",
        "          t_evento_anterior = t\n",
        "          \n",
        "          ts_Data.append(t)\n",
        "          N = N - 1.0\n",
        "          count = count + 1                         # Paquetes simulados\n",
        "          if N > 0:\n",
        "              ts = t + expovariate(mu)\n",
        "          else:\n",
        "              ts = Infinity\n",
        "\n",
        "  ##################################### se procesan los datos de salida ########################################\n",
        "              \n",
        "  # Estimación del retraso promedio:\n",
        "\n",
        "  for i in range(Num_Pkts):\n",
        "  #for i in range(T):\n",
        "      d = ts_Data[i] - tll_Data[i]\n",
        "      r_Data.append(d)\n",
        "\n",
        "  print( \"Retraso promedio = \", round( mean(r_Data), 4) )\n",
        "\n",
        "  # Estimación de la probabilidad de P(N=k):\n",
        "  for (key, value) in Data.items():\n",
        "      Data[key] = value/t\n",
        "\n",
        "  # Se verifica que la probabilidad total es 1.0\n",
        "\n",
        "  print('Suma de probabilidades =', sum(Data.values()))\n",
        "\n",
        "  # Se verifican los valores de expectación\n",
        "  media = 0.0\n",
        "\n",
        "  for (key, value) in Data.items():\n",
        "     media = media + key*value\n",
        "     print(key, round(value, 4))       #aqui imprimimos nuestras probabilidades\n",
        "  "
      ],
      "metadata": {
        "id": "3a08CHA9s4ZT"
      },
      "execution_count": 27,
      "outputs": []
    },
    {
      "cell_type": "code",
      "source": [
        "p(4,6,100000)     #probamos que sirva"
      ],
      "metadata": {
        "colab": {
          "base_uri": "https://localhost:8080/"
        },
        "id": "17IAFGDAt30-",
        "outputId": "24ce7840-00fe-44c5-be02-0ee3d7e270a0"
      },
      "execution_count": 33,
      "outputs": [
        {
          "output_type": "stream",
          "name": "stdout",
          "text": [
            "Retraso promedio =  0.4991\n",
            "Suma de probabilidades = 1.0\n",
            "0 0.333\n",
            "1.0 0.2215\n",
            "2.0 0.1496\n",
            "3.0 0.1001\n",
            "4.0 0.0653\n",
            "5.0 0.0433\n",
            "6.0 0.03\n",
            "7.0 0.0195\n",
            "8.0 0.0129\n",
            "9.0 0.0083\n",
            "10.0 0.0049\n",
            "11.0 0.0037\n",
            "12.0 0.0026\n",
            "13.0 0.0015\n",
            "14.0 0.0011\n",
            "15.0 0.0007\n",
            "16.0 0.0004\n",
            "17.0 0.0004\n",
            "18.0 0.0002\n",
            "19.0 0.0002\n",
            "20.0 0.0001\n",
            "21.0 0.0\n",
            "22.0 0.0001\n",
            "23.0 0.0001\n",
            "24.0 0.0\n",
            "25.0 0.0001\n",
            "26.0 0.0001\n",
            "27.0 0.0001\n",
            "28.0 0.0001\n",
            "29.0 0.0001\n",
            "30.0 0.0001\n",
            "31.0 0.0\n",
            "32.0 0.0\n",
            "33.0 0.0\n",
            "34.0 0.0\n"
          ]
        }
      ]
    },
    {
      "cell_type": "markdown",
      "source": [
        "1. En la biblioteca\n",
        "\n",
        "\n",
        "\n",
        "\n",
        "Un encargado de la biblioteca es el único en el mostrador durante todo su turno de trabajo.\n",
        "\n",
        "\n",
        "Las llegadas al mostrador siguen una distribución de Poisson con una media de 8 por hora.\n",
        "\n",
        "\n",
        "Cada usuario de la biblioteca es atendido de uno en uno, y el tiempo de servicio sigue una\n",
        "distribución exponencial con una media de 5 minutos.\n",
        "\n",
        "\n",
        "a) ¿Cuál es la probabilidad de que se forme cola?\n",
        "\n",
        "\n",
        "b) ¿Cuál es la longitud media de la cola?\n",
        "\n",
        "\n",
        "c) ¿Cuál es el tiempo medio que un cliente pasa en la biblioteca hasta que le han\n",
        "atendido?\n",
        "\n",
        "\n",
        "d) ¿Cuál es el tiempo medio que un cliente pasa en la cola esperando a que le atiendan?\n",
        "\n",
        "\n",
        "e) El encargado de la biblioteca pasa su tiempo en que no hay clientes clasificando artículos\n",
        "de revistas. Si puede clasificar 22 fichas por hora como media cuando trabaja continuamente,\n",
        "¿cuántas fichas puede ordenar durante su trabajo?"
      ],
      "metadata": {
        "id": "Zk7R1HEgvXxl"
      }
    },
    {
      "cell_type": "code",
      "source": [
        "#a) =p(0)+p(1)\n",
        "lamda=8 #x hora\n",
        "mu=12 #x hora i cada 5 min\n",
        "p(lamda,mu,100000)\n"
      ],
      "metadata": {
        "colab": {
          "base_uri": "https://localhost:8080/"
        },
        "id": "WZUbqPr9vwS0",
        "outputId": "53e71fe9-4787-480f-eae1-9f0a9c3d40f2"
      },
      "execution_count": 36,
      "outputs": [
        {
          "output_type": "stream",
          "name": "stdout",
          "text": [
            "Retraso promedio =  0.2462\n",
            "Suma de probabilidades = 0.9999999999999999\n",
            "0 0.3363\n",
            "1.0 0.2231\n",
            "2.0 0.1493\n",
            "3.0 0.099\n",
            "4.0 0.0648\n",
            "5.0 0.0429\n",
            "6.0 0.0285\n",
            "7.0 0.0184\n",
            "8.0 0.0122\n",
            "9.0 0.0082\n",
            "10.0 0.0058\n",
            "11.0 0.004\n",
            "12.0 0.0027\n",
            "13.0 0.0018\n",
            "14.0 0.001\n",
            "15.0 0.0007\n",
            "16.0 0.0005\n",
            "17.0 0.0003\n",
            "18.0 0.0001\n",
            "19.0 0.0001\n",
            "20.0 0.0001\n",
            "21.0 0.0001\n",
            "22.0 0.0001\n",
            "23.0 0.0001\n",
            "24.0 0.0001\n",
            "25.0 0.0001\n",
            "26.0 0.0\n",
            "27.0 0.0\n"
          ]
        }
      ]
    },
    {
      "cell_type": "code",
      "source": [
        "a=0.3363+0.2231\n",
        "print(\"la respuesta al inciso a es \",a)"
      ],
      "metadata": {
        "colab": {
          "base_uri": "https://localhost:8080/"
        },
        "id": "wdeXApsjwzS9",
        "outputId": "58b36d74-bc7e-4ea7-9954-2ccb00fb70a9"
      },
      "execution_count": 37,
      "outputs": [
        {
          "output_type": "stream",
          "name": "stdout",
          "text": [
            "la respuesta al inciso a es  0.5594\n"
          ]
        }
      ]
    },
    {
      "cell_type": "code",
      "source": [
        "wl(lamda,mu,100000)\n"
      ],
      "metadata": {
        "colab": {
          "base_uri": "https://localhost:8080/"
        },
        "id": "SdmQUYsYxsn2",
        "outputId": "fd315e1e-1493-4c2c-e344-99888442ded2"
      },
      "execution_count": 38,
      "outputs": [
        {
          "output_type": "execute_result",
          "data": {
            "text/plain": [
              "(0.25257694464462643, 2.0242525476027837)"
            ]
          },
          "metadata": {},
          "execution_count": 38
        }
      ]
    },
    {
      "cell_type": "code",
      "source": [
        "wq=0.25257694464462643-(1/mu)\n",
        "lq=lamda*wq\n",
        "print(\"la respuesta al inciso b es \", lq)"
      ],
      "metadata": {
        "colab": {
          "base_uri": "https://localhost:8080/"
        },
        "id": "6cqqUjuXx20O",
        "outputId": "95644304-12c6-4b20-b968-fb0676138544"
      },
      "execution_count": 39,
      "outputs": [
        {
          "output_type": "stream",
          "name": "stdout",
          "text": [
            "la respuesta al inciso b es  1.353948890490345\n"
          ]
        }
      ]
    },
    {
      "cell_type": "code",
      "source": [
        "print(\"la repuesta a c es\",wl(lamda,mu,100000)[0])"
      ],
      "metadata": {
        "colab": {
          "base_uri": "https://localhost:8080/"
        },
        "id": "r0EnoVuEyihD",
        "outputId": "4695df43-a27b-414b-df81-12601f61609d"
      },
      "execution_count": 40,
      "outputs": [
        {
          "output_type": "stream",
          "name": "stdout",
          "text": [
            "la repuesta a c es 0.24574379254321108\n"
          ]
        }
      ]
    },
    {
      "cell_type": "code",
      "source": [
        "print(\"la respuesta a d es \", wq)"
      ],
      "metadata": {
        "colab": {
          "base_uri": "https://localhost:8080/"
        },
        "id": "N39aU8xIzE-9",
        "outputId": "10b2e49c-9f32-43ce-9fc4-5f342c77eb5b"
      },
      "execution_count": 41,
      "outputs": [
        {
          "output_type": "stream",
          "name": "stdout",
          "text": [
            "la respuesta a d es  0.16924361131129312\n"
          ]
        }
      ]
    },
    {
      "cell_type": "code",
      "source": [
        "print(\"la repuesta a e es \",22*wl(lamda,mu,100000)[2])"
      ],
      "metadata": {
        "colab": {
          "base_uri": "https://localhost:8080/"
        },
        "id": "PQSbjTFp0RhV",
        "outputId": "b2daf8da-f191-4af4-9d46-1d19eff55c97"
      },
      "execution_count": 48,
      "outputs": [
        {
          "output_type": "stream",
          "name": "stdout",
          "text": [
            "la repuesta a e es  735328\n"
          ]
        }
      ]
    },
    {
      "cell_type": "markdown",
      "source": [
        "2. Lavado de autos\n",
        "\n",
        "\n",
        "Un pequeño autoservicio de lavado que solo tienen capacidad para atender de uno en uno a\n",
        "los autos que llegan, tiene un aparcamiento para 10 coches, incluyendo el que está siendo\n",
        "lavado. La empresa ha estimado que los coches llegan siguiendo una distribución de Poisson\n",
        "con una media de 20 coches/hora, el tiempo de servicio sigue una distribución exponencial\n",
        "de 12 minutos. La empresa abre durante 10 horas al día.\n",
        "\n",
        "\n",
        "¿Cuál es la media de coches perdidos cada día debido a las limitaciones de espacio?"
      ],
      "metadata": {
        "id": "To5lJz1G0k4T"
      }
    },
    {
      "cell_type": "code",
      "source": [
        "x=wl(20,5,10)[1]\n",
        "t=x-10\n",
        "print(\"la repuesta es \",t,\" carros perdidos\")\n"
      ],
      "metadata": {
        "colab": {
          "base_uri": "https://localhost:8080/"
        },
        "id": "_coh_m2q0quc",
        "outputId": "2db20105-0256-4840-a1b0-7543bd04bfdd"
      },
      "execution_count": 58,
      "outputs": [
        {
          "output_type": "stream",
          "name": "stdout",
          "text": [
            "la repuesta es  0.049076721159355685  carros perdidos\n"
          ]
        }
      ]
    },
    {
      "cell_type": "markdown",
      "source": [
        "3. John Macko\n",
        "\n",
        "\n",
        "John Macko es alumno en la U de Ozark. Hace trabajos extraños para aumentar sus ingresos.\n",
        "Las peticiones de trabajo llegan en promedio cada 5 días, pero el tiempo entre ellas es\n",
        "exponencial. El tiempo para terminar un trabajo también es exponencial, con una media de 4\n",
        "días.\n",
        "\n",
        "\n",
        "a) ¿Cuál es la probabilidad de que le falte trabajo a John?\n",
        "\n",
        "\n",
        "b) Si John cobra unos $50 por cada trabajo, ¿cuál es su ingreso mensual promedio?\n",
        "\n",
        "\n",
        "c) Si al final del semestre John decide subcontratar los trabajos pendientes a $40 cada uno,\n",
        "¿cuánto debe esperar pagar en promedio?"
      ],
      "metadata": {
        "id": "tDoZuYuh1nNe"
      }
    },
    {
      "cell_type": "code",
      "source": [
        "p(0.2,0.25,30)"
      ],
      "metadata": {
        "colab": {
          "base_uri": "https://localhost:8080/"
        },
        "id": "elWPAreo1seG",
        "outputId": "ffb7b026-9fab-4476-e574-7b9d137fee51"
      },
      "execution_count": 61,
      "outputs": [
        {
          "output_type": "stream",
          "name": "stdout",
          "text": [
            "Retraso promedio =  9.1619\n",
            "Suma de probabilidades = 0.9999999999999999\n",
            "0 0.2959\n",
            "1.0 0.2205\n",
            "2.0 0.1166\n",
            "3.0 0.1691\n",
            "4.0 0.1473\n",
            "5.0 0.0415\n",
            "6.0 0.009\n"
          ]
        }
      ]
    },
    {
      "cell_type": "code",
      "source": [
        "print(\"la respuesta a a es \",0.2959,\" en 30 dias\")"
      ],
      "metadata": {
        "colab": {
          "base_uri": "https://localhost:8080/"
        },
        "id": "sZ2Ts46f2qRm",
        "outputId": "dc70952a-7fe4-4ac1-b2c8-77b0ac2e6c4a"
      },
      "execution_count": 62,
      "outputs": [
        {
          "output_type": "stream",
          "name": "stdout",
          "text": [
            "la respuesta a a es  0.2959  en 30 dias\n"
          ]
        }
      ]
    },
    {
      "cell_type": "code",
      "source": [
        "ñ=wl(0.2,0.25,30)[1]  #tomamos solo la parte de l pues son los trabajos promedio mensuales\n",
        "q=ñ*50\n",
        "print(\"la respuesta a b es $\",q)"
      ],
      "metadata": {
        "colab": {
          "base_uri": "https://localhost:8080/"
        },
        "id": "pPwDB9op2yVP",
        "outputId": "5b10b4f2-fe3d-4504-f01f-25fbea7a803c"
      },
      "execution_count": 67,
      "outputs": [
        {
          "output_type": "stream",
          "name": "stdout",
          "text": [
            "la respuesta a b es $ 113.35540995979892\n"
          ]
        }
      ]
    },
    {
      "cell_type": "code",
      "source": [
        "g=wl(0.2,0.25,180)[0]  #se pone 180 dias aproximando el semestre\n",
        "k=g*40\n",
        "print(\"la respuesta a c es $\",k)"
      ],
      "metadata": {
        "colab": {
          "base_uri": "https://localhost:8080/"
        },
        "id": "ezn_Vv2R30s2",
        "outputId": "2a0a1876-1960-4a44-89aa-d2794d9e57ba"
      },
      "execution_count": 68,
      "outputs": [
        {
          "output_type": "stream",
          "name": "stdout",
          "text": [
            "la respuesta a c es $ 857.174906590459\n"
          ]
        }
      ]
    }
  ]
}