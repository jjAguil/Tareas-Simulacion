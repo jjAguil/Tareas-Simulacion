{
  "nbformat": 4,
  "nbformat_minor": 0,
  "metadata": {
    "colab": {
      "name": "Sistema de colas",
      "provenance": [],
      "authorship_tag": "ABX9TyPyhB74MsKzv3NfEiJMbrEy",
      "include_colab_link": true
    },
    "kernelspec": {
      "name": "python3",
      "display_name": "Python 3"
    },
    "language_info": {
      "name": "python"
    }
  },
  "cells": [
    {
      "cell_type": "markdown",
      "metadata": {
        "id": "view-in-github",
        "colab_type": "text"
      },
      "source": [
        "<a href=\"https://colab.research.google.com/github/jjAguil/Tareas-Simulacion/blob/main/Sistema_de_colas.ipynb\" target=\"_parent\"><img src=\"https://colab.research.google.com/assets/colab-badge.svg\" alt=\"Open In Colab\"/></a>"
      ]
    },
    {
      "cell_type": "code",
      "execution_count": 1,
      "metadata": {
        "id": "97ZaNrQXuhX_"
      },
      "outputs": [],
      "source": [
        "from random import expovariate\n",
        "from matplotlib.pyplot import *\n",
        "from random import seed"
      ]
    },
    {
      "cell_type": "code",
      "source": [
        "tpll = 2.0             # Tiempo promedio entre llegadas\n",
        "T = 15                 # Tiempo total de la simulación\n",
        "\n",
        "N = 0                  # Variable de estado: número de llegadas\n",
        "h=0\n",
        "t = 0                  # Hora de simulación actual\n",
        "l=[]\n",
        "f=[]\n",
        "ñ=[]\n",
        "while t <= T:\n",
        "    N = N + 1\n",
        "    t = t + expovariate(1/tpll)\n",
        "    l.append(t)\n",
        "    h=h+expovariate(1/20)+l[0]   #el tiempo de atencion\n",
        "    f.append(h)\n",
        "    ñ.append(h)\n",
        "    o=h+l[0]\n",
        "\n",
        "print (\"numero de llegadas\",N)\n",
        "print(\"tiempo de llegadas\", l)\n",
        "print(\"tiempo de salida\",f)\n",
        "print (\"tiempo total del sistema\", o)\n"
      ],
      "metadata": {
        "colab": {
          "base_uri": "https://localhost:8080/"
        },
        "id": "b3ML1kyxul2A",
        "outputId": "53864b3d-d6ce-45ff-ca10-9b59ff661821"
      },
      "execution_count": 7,
      "outputs": [
        {
          "output_type": "stream",
          "name": "stdout",
          "text": [
            "numero de llegadas 8\n",
            "tiempo de llegadas [0.5459312942975375, 0.5865520777743373, 1.099989668354155, 5.979380786572899, 9.531248991955268, 9.804012668926852, 12.967068473101648, 18.371501584835013]\n",
            "tiempo de salida [16.403206295840473, 18.858798113937926, 32.38616569940718, 33.053513825508084, 42.07858770998531, 57.25141464266835, 64.20756031853739, 65.15072174885618]\n",
            "tiempo total del sistema 65.69665304315372\n"
          ]
        }
      ]
    }
  ]
}