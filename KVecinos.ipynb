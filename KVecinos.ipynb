{
  "nbformat": 4,
  "nbformat_minor": 0,
  "metadata": {
    "colab": {
      "name": "KVecinos",
      "provenance": [],
      "authorship_tag": "ABX9TyMcTFkV2Uz6vBX0xUTuM7xq",
      "include_colab_link": true
    },
    "kernelspec": {
      "name": "python3",
      "display_name": "Python 3"
    },
    "language_info": {
      "name": "python"
    }
  },
  "cells": [
    {
      "cell_type": "markdown",
      "metadata": {
        "id": "view-in-github",
        "colab_type": "text"
      },
      "source": [
        "<a href=\"https://colab.research.google.com/github/jjAguil/Tareas-Simulacion/blob/main/KVecinos.ipynb\" target=\"_parent\"><img src=\"https://colab.research.google.com/assets/colab-badge.svg\" alt=\"Open In Colab\"/></a>"
      ]
    },
    {
      "cell_type": "markdown",
      "source": [
        "# METODO K-VECINOS\n",
        "\n",
        "El metodo k-vecinos es capaz de realizar regresión, pero es un método\n",
        "de Machine Learning que está en la librería sklearn.neigbors.\n"
      ],
      "metadata": {
        "id": "S6UAZTF4DjnP"
      }
    },
    {
      "cell_type": "markdown",
      "source": [
        "Lo que hace es lo siguiente:\n",
        "Digamos que tenemos la serie\n",
        "\n",
        "          lp=[3,7,8,4,5,9,11,12]\n",
        "\n",
        "\n",
        "Supongamos que se toman vectores de tamaño 3, k = 3, este nos tiene que ayudar a\n",
        "predecir el 4\n",
        "\n",
        "          [3,7,8] → 4\n",
        "\n",
        "Y luego,\n",
        "\n",
        "          [7,8,4] → 5\n",
        "\n",
        "Y así sucesivamente\n",
        "\n",
        "          [8,4,5] → 9\n",
        "          [4,5,9] → 11\n",
        "          [5,9,11] → 12\n",
        "\n",
        "Este metodo se basa en lo suiguiente:\n",
        "por\n",
        "ejemplo, si queremos saber cuánto da [4,8,7] o que hace es buscar los 3 vectores que más\n",
        "se parecen y para ello se saca la distancia euclidiana, entonces, digamos que\n",
        "\n",
        "v1 es [3,7,8] → 4\n",
        "\n",
        "v2 es [7,8,4] → 5\n",
        "\n",
        "v3 es [8,4,5] → 9\n",
        "\n",
        "v4 es [4,5,9] → 11\n",
        "\n",
        "v5 es [5,9,11] → 12\n",
        "\n",
        "Y finalmente, \n",
        "\n",
        "v0 es [4,8,7] → ?\n",
        "\n",
        "\n",
        "Entonces\n",
        "\n",
        "d(v0, v1) = √(4 − 3)^2 + (8 − 7)^2 + (7 − 8)^2\n",
        "\n",
        "d(v0, v2) = √(4 − 7)^2 + (8 − 8)^2 + (7 − 4)^2\n",
        "\n",
        "⋮\n",
        "\n",
        "d(v0, v5) = √(4 − 5)^2 + (8 − 9)^2 + (7 − 11)^2\n",
        "\n",
        "\n",
        "\n",
        "Y obteniendo todas las distancias, agarramos los 3 vectores más cercanos a v0 y los más cercanos son las 3 distancias más pequeñas.\n",
        "\n",
        "\n",
        "\n",
        "Supongamos que las 3 más pequeñas son v2, v3 y v4, entonces, ¿Cuáles son los siguientes elementos de v2, v3 y v4?\n",
        "\n",
        "\n",
        "De v2 es 5\n",
        "\n",
        "\n",
        "De v3 es 9\n",
        "\n",
        "\n",
        "De v4 es 11\n",
        "\n",
        "\n",
        "Entonces\n",
        "\n",
        "(5 + 9 + 11)/3 = 8.3333\n",
        "\n",
        "Este es el valor predicho.\n",
        "\n",
        "\n",
        "Y luego que tenemos los 3 vecinos más cercanos, decimos que si esos son los que más se\n",
        "parecen a 7, los valores siguientes deberían parecerse al siguiente que no conozco (v0),\n",
        "pero como eso puede variar, pues entonces se agarran los promedios de los siguientes\n",
        "valores de los 3 vecinos más cercanos y esa es la estimación del pronostico para v0.\n",
        "A grandes rasgos, este es el método de los k vecinos más cercanos.\n",
        "\n"
      ],
      "metadata": {
        "id": "Hf8VUUXND84G"
      }
    },
    {
      "cell_type": "markdown",
      "source": [
        "# Programando "
      ],
      "metadata": {
        "id": "06opQ5XfIK_G"
      }
    },
    {
      "cell_type": "code",
      "source": [
        "import pandas_datareader as pdr\n",
        "import datetime\n",
        "import pandas as pd\n"
      ],
      "metadata": {
        "id": "Z-BeJPWqIOt6"
      },
      "execution_count": null,
      "outputs": []
    },
    {
      "cell_type": "code",
      "source": [
        "!pip install yfinance"
      ],
      "metadata": {
        "colab": {
          "base_uri": "https://localhost:8080/",
          "height": 679
        },
        "id": "fS_j3-XSJiU9",
        "outputId": "0a630f18-2e55-4cd1-e8a0-25cd2e8ec3e3"
      },
      "execution_count": null,
      "outputs": [
        {
          "output_type": "stream",
          "name": "stdout",
          "text": [
            "Looking in indexes: https://pypi.org/simple, https://us-python.pkg.dev/colab-wheels/public/simple/\n",
            "Collecting yfinance\n",
            "  Downloading yfinance-0.1.72-py2.py3-none-any.whl (27 kB)\n",
            "Collecting requests>=2.26\n",
            "  Downloading requests-2.28.0-py3-none-any.whl (62 kB)\n",
            "\u001b[K     |████████████████████████████████| 62 kB 1.2 MB/s \n",
            "\u001b[?25hRequirement already satisfied: multitasking>=0.0.7 in /usr/local/lib/python3.7/dist-packages (from yfinance) (0.0.10)\n",
            "Requirement already satisfied: numpy>=1.15 in /usr/local/lib/python3.7/dist-packages (from yfinance) (1.21.6)\n",
            "Requirement already satisfied: pandas>=0.24.0 in /usr/local/lib/python3.7/dist-packages (from yfinance) (1.3.5)\n",
            "Collecting lxml>=4.5.1\n",
            "  Downloading lxml-4.9.0-cp37-cp37m-manylinux_2_17_x86_64.manylinux2014_x86_64.manylinux_2_24_x86_64.whl (6.4 MB)\n",
            "\u001b[K     |████████████████████████████████| 6.4 MB 27.5 MB/s \n",
            "\u001b[?25hRequirement already satisfied: python-dateutil>=2.7.3 in /usr/local/lib/python3.7/dist-packages (from pandas>=0.24.0->yfinance) (2.8.2)\n",
            "Requirement already satisfied: pytz>=2017.3 in /usr/local/lib/python3.7/dist-packages (from pandas>=0.24.0->yfinance) (2022.1)\n",
            "Requirement already satisfied: six>=1.5 in /usr/local/lib/python3.7/dist-packages (from python-dateutil>=2.7.3->pandas>=0.24.0->yfinance) (1.15.0)\n",
            "Requirement already satisfied: urllib3<1.27,>=1.21.1 in /usr/local/lib/python3.7/dist-packages (from requests>=2.26->yfinance) (1.24.3)\n",
            "Requirement already satisfied: certifi>=2017.4.17 in /usr/local/lib/python3.7/dist-packages (from requests>=2.26->yfinance) (2022.5.18.1)\n",
            "Requirement already satisfied: charset-normalizer~=2.0.0 in /usr/local/lib/python3.7/dist-packages (from requests>=2.26->yfinance) (2.0.12)\n",
            "Requirement already satisfied: idna<4,>=2.5 in /usr/local/lib/python3.7/dist-packages (from requests>=2.26->yfinance) (2.10)\n",
            "Installing collected packages: requests, lxml, yfinance\n",
            "  Attempting uninstall: requests\n",
            "    Found existing installation: requests 2.23.0\n",
            "    Uninstalling requests-2.23.0:\n",
            "      Successfully uninstalled requests-2.23.0\n",
            "  Attempting uninstall: lxml\n",
            "    Found existing installation: lxml 4.2.6\n",
            "    Uninstalling lxml-4.2.6:\n",
            "      Successfully uninstalled lxml-4.2.6\n",
            "\u001b[31mERROR: pip's dependency resolver does not currently take into account all the packages that are installed. This behaviour is the source of the following dependency conflicts.\n",
            "google-colab 1.0.0 requires requests~=2.23.0, but you have requests 2.28.0 which is incompatible.\n",
            "datascience 0.10.6 requires folium==0.2.1, but you have folium 0.8.3 which is incompatible.\u001b[0m\n",
            "Successfully installed lxml-4.9.0 requests-2.28.0 yfinance-0.1.72\n"
          ]
        },
        {
          "output_type": "display_data",
          "data": {
            "application/vnd.colab-display-data+json": {
              "pip_warning": {
                "packages": [
                  "requests"
                ]
              }
            }
          },
          "metadata": {}
        }
      ]
    },
    {
      "cell_type": "code",
      "source": [
        "!pip install investpy"
      ],
      "metadata": {
        "colab": {
          "base_uri": "https://localhost:8080/"
        },
        "id": "TOPuNBT4L8q4",
        "outputId": "9ccfd27c-9f43-4500-970a-ed391d7e4c96"
      },
      "execution_count": null,
      "outputs": [
        {
          "output_type": "stream",
          "name": "stdout",
          "text": [
            "Looking in indexes: https://pypi.org/simple, https://us-python.pkg.dev/colab-wheels/public/simple/\n",
            "Collecting investpy\n",
            "  Downloading investpy-1.0.8.tar.gz (4.4 MB)\n",
            "\u001b[K     |████████████████████████████████| 4.4 MB 4.4 MB/s \n",
            "\u001b[?25hCollecting Unidecode>=1.1.1\n",
            "  Downloading Unidecode-1.3.4-py3-none-any.whl (235 kB)\n",
            "\u001b[K     |████████████████████████████████| 235 kB 34.0 MB/s \n",
            "\u001b[?25hRequirement already satisfied: setuptools>=41.2.0 in /usr/local/lib/python3.7/dist-packages (from investpy) (57.4.0)\n",
            "Requirement already satisfied: numpy>=1.17.2 in /usr/local/lib/python3.7/dist-packages (from investpy) (1.21.6)\n",
            "Requirement already satisfied: pandas>=0.25.1 in /usr/local/lib/python3.7/dist-packages (from investpy) (1.3.5)\n",
            "Requirement already satisfied: lxml>=4.4.1 in /usr/local/lib/python3.7/dist-packages (from investpy) (4.9.0)\n",
            "Requirement already satisfied: requests>=2.22.0 in /usr/local/lib/python3.7/dist-packages (from investpy) (2.28.0)\n",
            "Requirement already satisfied: pytz>=2019.3 in /usr/local/lib/python3.7/dist-packages (from investpy) (2022.1)\n",
            "Requirement already satisfied: python-dateutil>=2.7.3 in /usr/local/lib/python3.7/dist-packages (from pandas>=0.25.1->investpy) (2.8.2)\n",
            "Requirement already satisfied: six>=1.5 in /usr/local/lib/python3.7/dist-packages (from python-dateutil>=2.7.3->pandas>=0.25.1->investpy) (1.15.0)\n",
            "Requirement already satisfied: charset-normalizer~=2.0.0 in /usr/local/lib/python3.7/dist-packages (from requests>=2.22.0->investpy) (2.0.12)\n",
            "Requirement already satisfied: idna<4,>=2.5 in /usr/local/lib/python3.7/dist-packages (from requests>=2.22.0->investpy) (2.10)\n",
            "Requirement already satisfied: certifi>=2017.4.17 in /usr/local/lib/python3.7/dist-packages (from requests>=2.22.0->investpy) (2022.5.18.1)\n",
            "Requirement already satisfied: urllib3<1.27,>=1.21.1 in /usr/local/lib/python3.7/dist-packages (from requests>=2.22.0->investpy) (1.24.3)\n",
            "Building wheels for collected packages: investpy\n",
            "  Building wheel for investpy (setup.py) ... \u001b[?25l\u001b[?25hdone\n",
            "  Created wheel for investpy: filename=investpy-1.0.8-py3-none-any.whl size=4481592 sha256=3541af9c3d29ac0c484dd52b81d4b29823c8fe0e46775dee8fdbb45cf8e0c335\n",
            "  Stored in directory: /root/.cache/pip/wheels/96/a8/a5/0d33c72eaf00b41df7b9dc1e15d2b7c7154b3f1379ed350211\n",
            "Successfully built investpy\n",
            "Installing collected packages: Unidecode, investpy\n",
            "Successfully installed Unidecode-1.3.4 investpy-1.0.8\n"
          ]
        }
      ]
    },
    {
      "cell_type": "code",
      "source": [
        "RISKY_ASSET = 'MSFT'\n",
        "START_DATE = '2022-01-01'\n",
        "END_DATE = '2022-05-31'"
      ],
      "metadata": {
        "id": "R7WuuKVgJpVS"
      },
      "execution_count": null,
      "outputs": []
    },
    {
      "cell_type": "code",
      "source": [
        "import yfinance as yf"
      ],
      "metadata": {
        "id": "uveOvrw9Oti3"
      },
      "execution_count": null,
      "outputs": []
    },
    {
      "cell_type": "code",
      "source": [
        "df = yf.download(RISKY_ASSET, start=START_DATE, end=END_DATE, adjusted=True)\n",
        "print(f'Descargados {df.shape[0]} renglones de datos.')"
      ],
      "metadata": {
        "colab": {
          "base_uri": "https://localhost:8080/"
        },
        "id": "AJEHkY9bKub3",
        "outputId": "ddc037f1-e46c-4c74-f3d2-980d41c1c947"
      },
      "execution_count": null,
      "outputs": [
        {
          "output_type": "stream",
          "name": "stdout",
          "text": [
            "\r[*********************100%***********************]  1 of 1 completed\n",
            "Descargados 102 renglones de datos.\n"
          ]
        }
      ]
    },
    {
      "cell_type": "code",
      "source": [
        "ts=df['Adj Close']\n",
        "lp=[]\n",
        "for i in range (len(ts)):\n",
        "  lp.append(ts.iloc[i])"
      ],
      "metadata": {
        "id": "KVYqtXLTOxvV"
      },
      "execution_count": null,
      "outputs": []
    },
    {
      "cell_type": "code",
      "source": [
        "from math import log\n",
        "from statistics import mean,stdev\n",
        "from scipy.stats import kstest"
      ],
      "metadata": {
        "id": "ya1CeuCZPnwI"
      },
      "execution_count": null,
      "outputs": []
    },
    {
      "cell_type": "code",
      "source": [
        "n=len(lp)\n",
        "lr=[]\n",
        "for i in range (1,n):\n",
        "  lr.append(log(lp[i]/lp[i-1]))\n",
        "\n",
        "u=mean(lr)\n",
        "o=stdev(lr)"
      ],
      "metadata": {
        "id": "ksnk3iT8P7pP"
      },
      "execution_count": 26,
      "outputs": []
    },
    {
      "cell_type": "code",
      "source": [
        "import matplotlib.pyplot as plt\n",
        "from sklearn.neighbors import KNeighborsRegressor\n",
        "import numpy as np\n"
      ],
      "metadata": {
        "id": "ks7LxuGgQlqv"
      },
      "execution_count": 27,
      "outputs": []
    },
    {
      "cell_type": "code",
      "source": [
        "def prepara(p,lr,m):\n",
        "  x=[]\n",
        "  y=[]\n",
        "  for i in range(p+1,m-2):\n",
        "    y.append(lr[i-1])\n",
        "    l=[]\n",
        "    for j in range(p):\n",
        "      l.append(lr[i-p+j-1])\n",
        "    x.append(x)\n",
        "  return [x,y]\n",
        "\n",
        "\n"
      ],
      "metadata": {
        "id": "QyakhXAkRHtg"
      },
      "execution_count": 28,
      "outputs": []
    },
    {
      "cell_type": "code",
      "source": [
        "def predice(lri,p,nnb):\n",
        "  m=len(lri)\n",
        "  x_sig=[]\n",
        "  for i in range(m-p-1,m-1):\n",
        "    x_sig.append(lri[i])\n",
        "  r_sig=lri.pop()\n",
        "  m=len(lri)\n",
        "  lll=prepara(p,lri,m)\n",
        "  x=lll[0]\n",
        "  y=lll[1]\n",
        "  neigh=KNeighborsRegressor(n_neighbors=nnb,)\n",
        "  neigh.fit(x,y)\n",
        "  m1=len(y)\n",
        "  return[r_sig,neigh.predict([x_sig])[0]]\n"
      ],
      "metadata": {
        "id": "S1T2yZE0SEdA"
      },
      "execution_count": 29,
      "outputs": []
    },
    {
      "cell_type": "code",
      "source": [
        "minimo=100000\n",
        "for nnb in range(2,20):\n",
        "  for p in range(2,20):\n",
        "    m=len(lr)\n",
        "    d=20\n",
        "    lri=[]\n",
        "    lpre=[]\n",
        "    lreal=[]\n",
        "    for i in range(d):\n",
        "      lri=[]\n",
        "      for j in range(m-d+i):\n",
        "        lri.append(lr[j])\n",
        "      ll=predice(lri,p,nnb)\n",
        "      lpre.append(ll[1])\n",
        "      lreal.append(ll[0])\n",
        "      suma=0\n",
        "      for i in range(len(lpre)):\n",
        "        suma=suma+(lpre[i]-lreal[i])**2\n",
        "      suma=suma/len(lpre)\n",
        "      if suma<minimo:\n",
        "        minimo=suma\n",
        "        p1=p\n",
        "        nnb1=nnb\n",
        "        print(p1,nnb1,minimo)\n"
      ],
      "metadata": {
        "id": "M2aOJ_atTreg"
      },
      "execution_count": null,
      "outputs": []
    },
    {
      "cell_type": "code",
      "source": [
        "print(p1,nnb1,minimo)"
      ],
      "metadata": {
        "id": "K4E6EdsOVxpv"
      },
      "execution_count": null,
      "outputs": []
    },
    {
      "cell_type": "code",
      "source": [
        "m=len(lr)\n",
        "p=p1\n",
        "nnb=nnb1\n",
        "lri=[]\n",
        "lpre=[]\n",
        "lreal=[]\n",
        "for i in range(d):\n",
        "  lri=[]\n",
        "  for j in range(m-d+i):\n",
        "    lri.append(lr[j])\n",
        "  ll=predice(lri,p,nnb)\n",
        "  lpre.append(ll[1])\n",
        "  lreal.append(11[0])\n",
        "\n",
        "plt.plot(lpre,label='predicho')\n",
        "plt.plot(lreal,label='real')\n",
        "plt.title('p=',+str(p)+'  d= '+str(d))\n",
        "plr.show()\n"
      ],
      "metadata": {
        "id": "umGRx99NV4HO"
      },
      "execution_count": null,
      "outputs": []
    }
  ]
}